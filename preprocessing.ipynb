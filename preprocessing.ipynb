{
 "cells": [
  {
   "cell_type": "markdown",
   "metadata": {},
   "source": [
    "# 전처리"
   ]
  },
  {
   "cell_type": "markdown",
   "metadata": {},
   "source": [
    "라이브러리 불러오기"
   ]
  },
  {
   "cell_type": "code",
   "execution_count": 1,
   "metadata": {},
   "outputs": [],
   "source": [
    "import pandas as pd\n",
    "from tqdm import tqdm\n",
    "import numpy as np\n",
    "import json"
   ]
  },
  {
   "cell_type": "markdown",
   "metadata": {},
   "source": [
    "데이터 불러오기 및 통합"
   ]
  },
  {
   "cell_type": "code",
   "execution_count": 2,
   "metadata": {},
   "outputs": [
    {
     "name": "stderr",
     "output_type": "stream",
     "text": [
      "/tmp/ipykernel_2992742/325082414.py:1: DtypeWarning: Columns (11) have mixed types. Specify dtype option on import or set low_memory=False.\n",
      "  df_2018 = pd.read_csv('/dshome/ddualab/yohan/finance/data/2018.txt', sep='\\t')\n",
      "/tmp/ipykernel_2992742/325082414.py:2: DtypeWarning: Columns (7) have mixed types. Specify dtype option on import or set low_memory=False.\n",
      "  df_2019 = pd.read_csv('/dshome/ddualab/yohan/finance/data/2019.txt', sep='\\t')\n",
      "/tmp/ipykernel_2992742/325082414.py:3: DtypeWarning: Columns (7) have mixed types. Specify dtype option on import or set low_memory=False.\n",
      "  df_2020 = pd.read_csv('/dshome/ddualab/yohan/finance/data/2020.txt', sep='\\t')\n"
     ]
    }
   ],
   "source": [
    "df_2018 = pd.read_csv('/dshome/ddualab/yohan/finance/data/2018.txt', sep='\\t')\n",
    "df_2019 = pd.read_csv('/dshome/ddualab/yohan/finance/data/2019.txt', sep='\\t')\n",
    "df_2020 = pd.read_csv('/dshome/ddualab/yohan/finance/data/2020.txt', sep='\\t')\n",
    "total_df = pd.concat([df_2018, df_2019, df_2020], axis=0).reset_index(drop = True)"
   ]
  },
  {
   "cell_type": "markdown",
   "metadata": {},
   "source": [
    "불필요 칼럼 삭제 및 NaN 값 확인"
   ]
  },
  {
   "cell_type": "code",
   "execution_count": 3,
   "metadata": {},
   "outputs": [],
   "source": [
    "del_col = ['고객 이메일', '고객 이름', '구매 상품명', '구매 상품금액', '구매 수향']\n",
    "usable_col = [value for value in total_df.columns.tolist() if value not in del_col]\n",
    "total_df = total_df[usable_col]\n",
    "\n",
    "isna_arr = total_df.isna().sum()\n",
    "industry_df = total_df[['가맹점아이디', '업종', '업태']]"
   ]
  },
  {
   "cell_type": "markdown",
   "metadata": {},
   "source": [
    "업종 및 업태의 값이 존재하는 행만 추출"
   ]
  },
  {
   "cell_type": "code",
   "execution_count": 4,
   "metadata": {},
   "outputs": [
    {
     "name": "stderr",
     "output_type": "stream",
     "text": [
      "100%|██████████| 198/198 [00:38<00:00,  5.08it/s]\n"
     ]
    }
   ],
   "source": [
    "id_arr = total_df.가맹점아이디.value_counts()\n",
    "nan_id = []\n",
    "for id in tqdm(id_arr.index):\n",
    "    isna_sum = industry_df[industry_df['가맹점아이디'] == id].isna().sum()\n",
    "    if (isna_sum['업종'] > 0) & (isna_sum['업태'] > 0):\n",
    "        nan_id.append(id)"
   ]
  },
  {
   "cell_type": "code",
   "execution_count": 5,
   "metadata": {},
   "outputs": [],
   "source": [
    "id_nan_idx = []\n",
    "for nan_idx in nan_id:\n",
    "    id_nan_idx.append(total_df[['가맹점아이디']][total_df['가맹점아이디'] == nan_idx].index.tolist())\n",
    "id_nan_idx = sum(id_nan_idx, [])\n",
    "eliminate_industry_df = total_df.drop(id_nan_idx).reset_index(drop = True)"
   ]
  },
  {
   "cell_type": "markdown",
   "metadata": {},
   "source": [
    "국내 위도 경도 정보가 포함된 JSON 형태 파일 불러오기 및 칼럼에 값 추가"
   ]
  },
  {
   "cell_type": "code",
   "execution_count": 6,
   "metadata": {},
   "outputs": [],
   "source": [
    "# json 파일 불러오기\n",
    "with open('korea_long_lat.json', 'r', encoding='utf-8') as file:\n",
    "    data = json.load(file)\n",
    "\n",
    "# 출력\n",
    "coor_df_info = {}\n",
    "coordinate_df = pd.DataFrame(data)\n",
    "coordinate_df_t = coordinate_df.transpose()\n",
    "coor_df_columns = ['name', 'lat', 'long']\n",
    "\n",
    "coor_df_info['name'] = coordinate_df_t.index\n",
    "coor_df_info['lat'] = coordinate_df_t.lat.values\n",
    "coor_df_info['long'] = coordinate_df_t.long.values\n",
    "\n",
    "coor_df = pd.DataFrame(coor_df_info)\n",
    "\n",
    "re_name = []\n",
    "for coor in coor_df.name.values:\n",
    "    re_name.append(coor.split('/')[-1])\n",
    "\n",
    "coor_df['re_name'] = re_name\n",
    "\n",
    "def extract_last_word(region):\n",
    "    return region.split(' ')[-1] if isinstance(region, str) else None\n",
    "\n",
    "# '가맹점 지역' 칼럼에서 마지막 단어 추출\n",
    "eliminate_industry_df['last_word'] = eliminate_industry_df['가맹점 지역'].apply(extract_last_word)\n",
    "\n",
    "\n",
    "merged_df = pd.merge(eliminate_industry_df, coor_df[['name', 'lat', 'long', 're_name']], \n",
    "                      left_on='last_word', right_on='re_name', \n",
    "                      how='left')\n",
    "\n",
    "# merged_df.to_csv('/dshome/ddualab/yohan/finance/yh/eliminate_trash_infor_added_coordinate.csv', index = False)"
   ]
  },
  {
   "cell_type": "markdown",
   "metadata": {},
   "source": [
    "중간 전처리 된 데이터프레임의 'NaN' 확인 및 제거"
   ]
  },
  {
   "cell_type": "code",
   "execution_count": 7,
   "metadata": {},
   "outputs": [
    {
     "data": {
      "text/plain": [
       "거래번호                 0\n",
       "가맹점아이디               0\n",
       "업태              152011\n",
       "업종                6438\n",
       "사업자구분                0\n",
       "사업자번호                0\n",
       "법인등록번호               0\n",
       "매입사                  0\n",
       "결제통화                 0\n",
       "금액                   0\n",
       "결제사                  0\n",
       "고객 카드BIN          6468\n",
       "고객 카드번호 암호화값      6307\n",
       "등록일                  0\n",
       "시스템 등록일시             0\n",
       "결제수단                 0\n",
       "결제유형                 0\n",
       "거래상태                 0\n",
       "가맹점 지역               0\n",
       "승인 지역                0\n",
       "연령층                  0\n",
       "영업시간                 0\n",
       "last_word            0\n",
       "name                 0\n",
       "lat                  0\n",
       "long                 0\n",
       "re_name              0\n",
       "dtype: int64"
      ]
     },
     "execution_count": 7,
     "metadata": {},
     "output_type": "execute_result"
    }
   ],
   "source": [
    "merged_df.isna().sum()"
   ]
  },
  {
   "cell_type": "markdown",
   "metadata": {},
   "source": [
    "고객 카드번호 암호화값을 통해 개인을 분류할 수 있으므로, 위 값이 NaN값을 가질 경우 학습에 사용할 수 없는 데이터로 판단하여 삭제"
   ]
  },
  {
   "cell_type": "code",
   "execution_count": 8,
   "metadata": {},
   "outputs": [
    {
     "data": {
      "text/plain": [
       "거래번호                 0\n",
       "가맹점아이디               0\n",
       "업태              147219\n",
       "업종                5339\n",
       "사업자구분                0\n",
       "사업자번호                0\n",
       "법인등록번호               0\n",
       "매입사                  0\n",
       "결제통화                 0\n",
       "금액                   0\n",
       "결제사                  0\n",
       "고객 카드BIN           161\n",
       "고객 카드번호 암호화값         0\n",
       "등록일                  0\n",
       "시스템 등록일시             0\n",
       "결제수단                 0\n",
       "결제유형                 0\n",
       "거래상태                 0\n",
       "가맹점 지역               0\n",
       "승인 지역                0\n",
       "연령층                  0\n",
       "영업시간                 0\n",
       "last_word            0\n",
       "name                 0\n",
       "lat                  0\n",
       "long                 0\n",
       "re_name              0\n",
       "dtype: int64"
      ]
     },
     "execution_count": 8,
     "metadata": {},
     "output_type": "execute_result"
    }
   ],
   "source": [
    "card_pw_nan_idx = merged_df[merged_df[['고객 카드번호 암호화값']].isna().any(axis = 1)].index.tolist()\n",
    "merged_df = merged_df.drop(card_pw_nan_idx).reset_index(drop = True)\n",
    "merged_df.isna().sum()"
   ]
  },
  {
   "cell_type": "markdown",
   "metadata": {},
   "source": [
    "업태 및 업종 중 하나의 값만 포함될 경우 최종 학습형태에 적합하도록 '업태' 칼럼에 모든 값 추가"
   ]
  },
  {
   "cell_type": "code",
   "execution_count": 9,
   "metadata": {},
   "outputs": [],
   "source": [
    "nan_business_item = merged_df[merged_df[['업태']].isna().any(axis = 1)].업종.value_counts().index\n",
    "nan_industry_item = merged_df[merged_df[['업종']].isna().any(axis = 1)].업태.value_counts().index\n",
    "\n",
    "merged_df.loc[merged_df['업종'] == 'Information Products', '업태'] = 'InformationProducts'\n",
    "\n",
    "for industry_type in nan_industry_item:\n",
    "    if industry_type == 'Generale-comm':\n",
    "        merged_df.loc[merged_df['업태'] == industry_type, '업종'] = '도매및소매업'\n",
    "    elif industry_type == 'ON-LINEMARKETINGANDWHOLESALES':\n",
    "        merged_df.loc[merged_df['업태'] == industry_type, '업종'] = '도매업'\n",
    "    elif industry_type == 'TranslationService':\n",
    "        merged_df.loc[merged_df['업태'] == industry_type, '업종'] = '서비스업'\n",
    "    elif industry_type == 'Cosmetics':\n",
    "        merged_df.loc[merged_df['업태'] == industry_type, '업종'] = '도매및소매업'\n",
    "    elif industry_type == '온라인번역':\n",
    "        merged_df.loc[merged_df['업태'] == industry_type, '업종'] = '서비스업'\n",
    "\n"
   ]
  },
  {
   "cell_type": "markdown",
   "metadata": {},
   "source": [
    "원화 일치를 위한 각 환율에 적합하도록 변경"
   ]
  },
  {
   "cell_type": "code",
   "execution_count": 10,
   "metadata": {},
   "outputs": [],
   "source": [
    "merged_df[\"원화환산금액\"] = merged_df[\"금액\"] \n",
    "merged_df.loc[merged_df[\"결제통화\"] == \"JPY\",\"원화환산금액\"] = merged_df[merged_df[\"결제통화\"] == \"JPY\"][\"원화환산금액\"] * 9.20\n",
    "merged_df.loc[merged_df[\"결제통화\"] == \"USD\",\"원화환산금액\"] = merged_df[merged_df[\"결제통화\"] == \"USD\"][\"원화환산금액\"] * 1379\n",
    "merged_df['업태'] = merged_df['업태'].str.replace(' ', '')"
   ]
  },
  {
   "cell_type": "markdown",
   "metadata": {},
   "source": [
    "업태 통일화를 위한 수기분류 작업"
   ]
  },
  {
   "cell_type": "code",
   "execution_count": 11,
   "metadata": {},
   "outputs": [],
   "source": [
    "도소매=['도소매업외','도매및소매업','도소매','도소매,소매','도매및','도매및소매업,금융및보험업','도매및소매업외','도소매업,서비스업','도소매업','도매및상품중개업','도소매업,서비스업','도매및기타중개업','도매및소매업,기타서비스업','소매','도매및소매업,서비스','도소매외','도매및소매업,서비스업','도소매,서비스','소매업']\n",
    "도소매 = list(set(도소매))\n",
    "\n",
    "서비스=['서비스,소매','서비스업,정보통신업','서비스업','서비스,도소매','서비스','서비스업외','서비스,금융업,서비스','서비스,금융업','서비스.금융업','서비스,금융업,서비스','서비스업','서비스,제조업,소매업,도매업','기술서비스업','서비스,서비스업']\n",
    "서비스 = list(set(서비스))\n",
    "\n",
    "Information_Products=['InformationProducts']\n",
    "Information_Products = list(set(Information_Products))\n",
    "\n",
    "통신업=['통신업,도소매,도매','정보통신업']\n",
    "통신업 = list(set(통신업))\n",
    "\n",
    "General_e_comm=['Generale-comm','소프트웨어개발및공급','소프트웨어자문,개발및공급,전자상거래업','전자상거래']\n",
    "General_e_comm = list(set(General_e_comm))\n",
    "\n",
    "Online_marketing=['ON-LINEMARKETINGANDWHOLESALES','온라인쇼핑몰']\n",
    "Online_marketing = list(set(Online_marketing))\n",
    "\n",
    "음식=['음식','음식및숙박업','음식점','음식점업','유흥주점']\n",
    "음식 = list(set(음식))\n",
    "\n",
    "Translation_service=['TranslationService','온라인번역']\n",
    "Translation_service = list(set(Translation_service))\n",
    "\n",
    "Cosmetics=['Cosmetics']\n",
    "Cosmetics = list(set(Cosmetics))\n",
    "\n",
    "금융업=['금융업']\n",
    "금융업 = list(set(금융업))\n",
    "\n",
    "의류=['의류,행사대행,기타대리']\n",
    "의류 = list(set(의류))\n",
    "\n",
    "모바일=['모바일결제기']\n",
    "모바일 = list(set(모바일))\n",
    "\n",
    "pranchise_idx_key = ['도소매', '서비스', 'Information_Products', '통신업', 'General_e_comm', 'Online_marketing', '음식', 'Translation_service', 'Cosmetics', '금융업', '의류', '모바일']\n",
    "\n",
    "pranchise_idx = [도소매, 서비스, Information_Products, 통신업, General_e_comm, Online_marketing, 음식, Translation_service, Cosmetics, 금융업, 의류, 모바일]"
   ]
  },
  {
   "cell_type": "markdown",
   "metadata": {},
   "source": [
    "수기로 분류된 각 형태에 맞도록 변환"
   ]
  },
  {
   "cell_type": "code",
   "execution_count": 12,
   "metadata": {},
   "outputs": [
    {
     "name": "stderr",
     "output_type": "stream",
     "text": [
      "100%|██████████| 2486947/2486947 [00:06<00:00, 388590.79it/s]\n"
     ]
    }
   ],
   "source": [
    "new_total_pranchise = []\n",
    "for df_pranchise_value in tqdm(merged_df.업태.values):\n",
    "# for total_idx, df_pranchise_value in enumerate(total_df.업태.values, 0):\n",
    "\n",
    "    for idx, all_pranchise_value in enumerate(pranchise_idx, 0):\n",
    "        \n",
    "        if df_pranchise_value.strip() in all_pranchise_value:\n",
    "            # print(df_pranchise_value)\n",
    "            new_total_pranchise.append(pranchise_idx_key[idx])\n",
    "            # print(pranchise_idx_key[idx])\n",
    "        # else:\n",
    "            # print(df_pranchise_value)\n",
    "merged_df['new_업태'] = new_total_pranchise"
   ]
  },
  {
   "cell_type": "markdown",
   "metadata": {},
   "source": [
    "새롭게 할당된 업태를 가지는 값 확인 (12개로 축소화 및 일치화)"
   ]
  },
  {
   "cell_type": "code",
   "execution_count": 13,
   "metadata": {},
   "outputs": [
    {
     "data": {
      "text/plain": [
       "array(['서비스', '통신업', '도소매', '의류', '모바일', '음식', '금융업', 'General_e_comm',\n",
       "       'Online_marketing', 'Information_Products', 'Translation_service',\n",
       "       'Cosmetics'], dtype=object)"
      ]
     },
     "execution_count": 13,
     "metadata": {},
     "output_type": "execute_result"
    }
   ],
   "source": [
    "merged_df['new_업태'].unique()"
   ]
  },
  {
   "cell_type": "markdown",
   "metadata": {},
   "source": [
    "취소가 존재하는 정보 추출 및 데이터 저장 (이상 및 정상 데이터)\n",
    "- 이상치 데이터: fds\n",
    "- 정상 데이터: norm"
   ]
  },
  {
   "cell_type": "code",
   "execution_count": 14,
   "metadata": {},
   "outputs": [
    {
     "data": {
      "text/plain": [
       "거래번호               0\n",
       "가맹점아이디             0\n",
       "업태                 0\n",
       "업종              5278\n",
       "사업자구분              0\n",
       "사업자번호              0\n",
       "법인등록번호             0\n",
       "매입사                0\n",
       "결제통화               0\n",
       "금액                 0\n",
       "결제사                0\n",
       "고객 카드BIN         161\n",
       "고객 카드번호 암호화값       0\n",
       "등록일                0\n",
       "시스템 등록일시           0\n",
       "결제수단               0\n",
       "결제유형               0\n",
       "거래상태               0\n",
       "가맹점 지역             0\n",
       "승인 지역              0\n",
       "연령층                0\n",
       "영업시간               0\n",
       "last_word          0\n",
       "name               0\n",
       "lat                0\n",
       "long               0\n",
       "re_name            0\n",
       "원화환산금액             0\n",
       "new_업태             0\n",
       "dtype: int64"
      ]
     },
     "execution_count": 14,
     "metadata": {},
     "output_type": "execute_result"
    }
   ],
   "source": [
    "merged_df.isna().sum()"
   ]
  },
  {
   "cell_type": "markdown",
   "metadata": {},
   "source": [
    "승인취소를 예측하기 위한 데이터프레임을 생성할 경우\n",
    "- issue_df1 사용\n",
    "\n",
    "승인 및 매입취소 데이터를 모두 사용하기 위한 데이터프레임을 생성할 경우\n",
    "- issue_df1, issue_df2 모두 사용 후 pd.concat을 통해 데이터프레임 합"
   ]
  },
  {
   "cell_type": "code",
   "execution_count": 15,
   "metadata": {},
   "outputs": [
    {
     "name": "stderr",
     "output_type": "stream",
     "text": [
      "100%|██████████| 5843/5843 [13:32<00:00,  7.19it/s]\n"
     ]
    }
   ],
   "source": [
    "total_df_c = merged_df.copy()[['고객 카드번호 암호화값', '거래상태']]\n",
    "# issue_df1 = total_df_c[total_df_c['거래상태'] == '승인취소']\n",
    "issue_df2 = total_df_c[total_df_c['거래상태'] == '매입취소']\n",
    "# issue_df = pd.concat([issue_df1, issue_df2], axis = 0).reset_index(drop = True)\n",
    "# issue_df_ = pd.concat([issue_df1, issue_df2], axis = 0)\n",
    "\n",
    "# cancel_idx = issue_df_.index\n",
    "cancel_idx = issue_df2.index\n",
    "\n",
    "fds_index = []\n",
    "for i in tqdm(issue_df2['고객 카드번호 암호화값'].values):\n",
    "    true_df = total_df_c[total_df_c['고객 카드번호 암호화값'] == i]\n",
    "    if len(true_df.index) > 0:\n",
    "        fds_index.append(true_df.index[0])\n",
    "    else:\n",
    "        continue\n",
    "\n",
    "total_fds_idx = np.concatenate([np.array(fds_index, dtype=np.int64), np.array(cancel_idx, dtype = np.int64)])\n",
    "\n",
    "fds_df =merged_df.iloc[fds_index, :].reset_index(drop = True)\n",
    "# fds_df.to_csv('fds_df_total.csv', index = False)\n",
    "\n",
    "norm_df = merged_df.drop(total_fds_idx).reset_index(drop = True)\n",
    "# norm_df.to_csv('norm_df_total.csv', index = False)"
   ]
  },
  {
   "cell_type": "markdown",
   "metadata": {},
   "source": [
    "추출된 정상 및 이상치 데이터 프레임에 대해 라벨링 및 통합 후 저장\n",
    "- 정상: 0\n",
    "- 비정상: 1"
   ]
  },
  {
   "cell_type": "code",
   "execution_count": 65,
   "metadata": {},
   "outputs": [],
   "source": [
    "fds_df['label'] = 1\n",
    "norm_df['label'] = 0\n",
    "\n",
    "# 두 데이터프레임을 합쳐서 last_total_df 생성\n",
    "last_total_df = pd.concat([fds_df, norm_df], axis=0).reset_index(drop=True)\n",
    "last_total_df.to_csv('last_total.csv', index = False)"
   ]
  },
  {
   "cell_type": "markdown",
   "metadata": {},
   "source": [
    "지정한 새로운 업태에 해당하는 행을 추출하여 업태 별 데이터프레임 저장\n",
    "- 업태 별 데이터 저장이 필요한 경우에만 실행"
   ]
  },
  {
   "cell_type": "code",
   "execution_count": null,
   "metadata": {},
   "outputs": [],
   "source": [
    "for pranchise_name in pranchise_idx_key:\n",
    "    last_total_df[last_total_df['new_업태'] == pranchise_name].reset_index(drop = True).to_csv('{}.csv'.format(pranchise_name), index = False)"
   ]
  },
  {
   "cell_type": "markdown",
   "metadata": {},
   "source": [
    "각 데이터를 불러온 뒤 이상치, 정상 라벨 수 확인"
   ]
  },
  {
   "cell_type": "code",
   "execution_count": 64,
   "metadata": {},
   "outputs": [
    {
     "name": "stderr",
     "output_type": "stream",
     "text": [
      "/tmp/ipykernel_2989375/1408069271.py:2: DtypeWarning: Columns (7,11) have mixed types. Specify dtype option on import or set low_memory=False.\n",
      "  current_df = pd.read_csv('{}.csv'.format(pranchise_name))\n"
     ]
    },
    {
     "name": "stdout",
     "output_type": "stream",
     "text": [
      "1    1362874\n",
      "0       3453\n",
      "Name: label, dtype: int64\n",
      "1    874701\n",
      "0      2339\n",
      "Name: label, dtype: int64\n",
      "1    147219\n",
      "Name: label, dtype: int64\n",
      "1    84266\n",
      "0       29\n",
      "Name: label, dtype: int64\n",
      "1    3195\n",
      "0      21\n",
      "Name: label, dtype: int64\n",
      "1    2033\n",
      "Name: label, dtype: int64\n",
      "1    697\n",
      "0      1\n",
      "Name: label, dtype: int64\n",
      "1    250\n",
      "Name: label, dtype: int64\n",
      "1    53\n",
      "Name: label, dtype: int64\n",
      "1    38\n",
      "Name: label, dtype: int64\n",
      "1    10\n",
      "Name: label, dtype: int64\n",
      "1    4\n",
      "Name: label, dtype: int64\n"
     ]
    }
   ],
   "source": [
    "for pranchise_name in pranchise_idx_key:\n",
    "    current_df = pd.read_csv('{}.csv'.format(pranchise_name))\n",
    "    print(current_df['label'].value_counts())"
   ]
  }
 ],
 "metadata": {
  "kernelspec": {
   "display_name": "Python 3",
   "language": "python",
   "name": "python3"
  },
  "language_info": {
   "codemirror_mode": {
    "name": "ipython",
    "version": 3
   },
   "file_extension": ".py",
   "mimetype": "text/x-python",
   "name": "python",
   "nbconvert_exporter": "python",
   "pygments_lexer": "ipython3",
   "version": "3.8.10"
  }
 },
 "nbformat": 4,
 "nbformat_minor": 2
}
